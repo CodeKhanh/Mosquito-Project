{
  "cells": [
    {
      "cell_type": "markdown",
      "metadata": {
        "id": "PHtvdsCaPac_"
      },
      "source": [
        "<html>\n",
        "    <summary></summary>\n",
        "    <p float=\"left\">\n",
        "         <div> <p></p> </div>\n",
        "         <div style=\"font-size: 20px; width: 800px;\">\n",
        "              <h1>\n",
        "               <left>Packages and File Management</left>\n",
        "              </h1>\n",
        "              <p><left>============================================================================</left> </p>              \n",
        "             <pre>Course: ASU CBP Summer School 2025\n",
        "Instructor: Dr. Douglas Shepherd, Steven Sheppard, Zoe Bonasera\n",
        "Contact Info: douglas.shepherd@asu.edu\n",
        "Authors: Will Raymond, Dr. Brian Munsky, Dr. Douglas Shepherd\n",
        "</pre>\n",
        "         </div>\n",
        "    </p>\n",
        "\n",
        "</html>\n",
        "\n",
        "\n",
        "\n",
        "<details>\n",
        "  <summary>Copyright info</summary>\n",
        "\n",
        "```\n",
        "Copyright 2023 Brian Munsky\n",
        "\n",
        "Redistribution and use in source and binary forms, with or without modification, are permitted provided that the following conditions are met:\n",
        "\n",
        "1. Redistributions of source code must retain the above copyright notice, this list of conditions and the following disclaimer.\n",
        "\n",
        "2. Redistributions in binary form must reproduce the above copyright notice, this list of conditions and the following disclaimer in the documentation and/or other materials provided with the distribution.\n",
        "\n",
        "3. Neither the name of the copyright holder nor the names of its contributors may be used to endorse or promote products derived from this software without specific prior written permission.\n",
        "\n",
        "THIS SOFTWARE IS PROVIDED BY THE COPYRIGHT HOLDERS AND CONTRIBUTORS \"AS IS\" AND ANY EXPRESS OR IMPLIED WARRANTIES, INCLUDING, BUT NOT LIMITED TO, THE IMPLIED WARRANTIES OF MERCHANTABILITY AND FITNESS FOR A PARTICULAR PURPOSE ARE DISCLAIMED. IN NO EVENT SHALL THE COPYRIGHT HOLDER OR CONTRIBUTORS BE LIABLE FOR ANY DIRECT, INDIRECT, INCIDENTAL, SPECIAL, EXEMPLARY, OR CONSEQUENTIAL DAMAGES (INCLUDING, BUT NOT LIMITED TO, PROCUREMENT OF SUBSTITUTE GOODS OR SERVICES; LOSS OF USE, DATA, OR PROFITS; OR BUSINESS INTERRUPTION) HOWEVER CAUSED AND ON ANY THEORY OF LIABILITY, WHETHER IN CONTRACT, STRICT LIABILITY, OR TORT (INCLUDING NEGLIGENCE OR OTHERWISE) ARISING IN ANY WAY OUT OF THE USE OF THIS SOFTWARE, EVEN IF ADVISED OF THE POSSIBILITY OF SUCH DAMAGE.\n",
        "```\n",
        "<details>"
      ]
    },
    {
      "cell_type": "markdown",
      "metadata": {
        "id": "HfaqqRdXPadD"
      },
      "source": [
        "<table class=\"tfo-notebook-buttons\" align=\"left\">\n",
        "  <td>\n",
        "    <a target=\"_blank\" href=\"https://colab.research.google.com/github/QI2lab/2025-CBP-SummerSchool/blob/main/Module1-PreliminaryPython/M1B_Packages_and_File_Management.ipynb\"><img src=\"https://www.tensorflow.org/images/colab_logo_32px.png\" />Run in Google Colab</a>\n",
        "  </td>\n",
        "  <td>\n",
        "    <a target=\"_blank\" href=\"https://github.com/QI2lab/2025-CBP-SummerSchool/blob/main/Module1-PreliminaryPython/M1B_Packages_and_File_Management.ipynb\"><img src=\"https://www.tensorflow.org/images/GitHub-Mark-32px.png\" />View source on GitHub</a>\n",
        "  </td>\n",
        "</table>"
      ]
    },
    {
      "cell_type": "markdown",
      "metadata": {
        "id": "_YPwTneNwC64"
      },
      "source": [
        "# **Learning Objectives**\n",
        "In this notebook, we will learn about one of the nicest things about python -- the modular nature of object oriented programming. After completing this notebook, you will be able to:\n",
        "* ```import``` packages or modules to use in your codes or notebooks\n",
        "* find and ```install``` new packages\n",
        "* run simple ```os``` (operating system) tasks to control your computer\n",
        "* ```open``` and ```read/write``` to files\n",
        "* work with ```pandas``` to manage files and data\n",
        "* save data using ```numpy``` arrays and files\n"
      ]
    },
    {
      "cell_type": "markdown",
      "metadata": {
        "id": "pkepfEO5PadE"
      },
      "source": [
        "## **1) Importing, Using, and Installing packages**\n",
        "\n",
        "```Reading: Kinder, Nelson Section 4 and Appendix B```\n",
        "\n",
        "Importing modules lets you load particular code into your instance of Python and use only the ones needed.  \n",
        "\n",
        "For example, we can import one section or function of a given code instead of loading the entire package. Available modules are based on your current path / environment variables and your current instillation of python.\n",
        "\n",
        "You can import the package ```sys``` (system) and take a glance at what paths (folders/directories) python has access to when importing:"
      ]
    },
    {
      "cell_type": "code",
      "execution_count": 1,
      "metadata": {
        "colab": {
          "base_uri": "https://localhost:8080/"
        },
        "id": "-g7iivNAb5Q7",
        "outputId": "3aaaf2f1-30ad-45ba-aaf6-cce5a8398cc6",
        "tags": []
      },
      "outputs": [
        {
          "output_type": "execute_result",
          "data": {
            "text/plain": [
              "['/content',\n",
              " '/env/python',\n",
              " '/usr/lib/python311.zip',\n",
              " '/usr/lib/python3.11',\n",
              " '/usr/lib/python3.11/lib-dynload',\n",
              " '',\n",
              " '/usr/local/lib/python3.11/dist-packages',\n",
              " '/usr/lib/python3/dist-packages',\n",
              " '/usr/local/lib/python3.11/dist-packages/IPython/extensions',\n",
              " '/root/.ipython']"
            ]
          },
          "metadata": {},
          "execution_count": 1
        }
      ],
      "source": [
        "# import the modules os and sys\n",
        "import os, sys\n",
        "\n",
        "# Print the current path using the function path from the module sys.  The result of this function\n",
        "# is a list of strings, each string representing a path.  The first path is the current path, which\n",
        "# is the path where the script is being executed. The other paths are the paths where python will\n",
        "# look for modules to import.  If you are trying to import a module and you get an error, you can\n",
        "# check to make sure that the path to the module is in this list.\n",
        "sys.path  #current paths python has"
      ]
    },
    {
      "cell_type": "markdown",
      "metadata": {
        "id": "0L49iqF6J3gI"
      },
      "source": [
        "Let's take a glance at what we have installed already (when we created our environment). To do this we are going to call ```pip```, ```pip``` is the main package manager for Python and comes included since Python 3. ```pip```connects to [PyPI](https://pypi.org/), the python package index where people are free to release code and modules that they have developed.\n",
        "\n",
        "**Tip - The % symbol below tells VS Code to run this command in the background unix kernel, as if this were a terminal or command prompt input.** By calling ```!pip list``` or ```%pip list``` we are telling the terminal to list every package.  Alternatively, try just running the command ```pip list''' in your terminal, and you will get the same result."
      ]
    },
    {
      "cell_type": "code",
      "execution_count": 2,
      "metadata": {
        "colab": {
          "base_uri": "https://localhost:8080/"
        },
        "id": "U9pWqC3qKG94",
        "outputId": "9fdc3340-82db-40c1-cd33-47b58563a07c",
        "tags": []
      },
      "outputs": [
        {
          "output_type": "stream",
          "name": "stdout",
          "text": [
            "Package                               Version\n",
            "------------------------------------- -------------------\n",
            "absl-py                               1.4.0\n",
            "accelerate                            1.9.0\n",
            "aiofiles                              24.1.0\n",
            "aiohappyeyeballs                      2.6.1\n",
            "aiohttp                               3.12.14\n",
            "aiosignal                             1.4.0\n",
            "alabaster                             1.0.0\n",
            "albucore                              0.0.24\n",
            "albumentations                        2.0.8\n",
            "ale-py                                0.11.2\n",
            "altair                                5.5.0\n",
            "annotated-types                       0.7.0\n",
            "antlr4-python3-runtime                4.9.3\n",
            "anyio                                 4.9.0\n",
            "anywidget                             0.9.18\n",
            "argon2-cffi                           25.1.0\n",
            "argon2-cffi-bindings                  21.2.0\n",
            "array_record                          0.7.2\n",
            "arviz                                 0.22.0\n",
            "astropy                               7.1.0\n",
            "astropy-iers-data                     0.2025.7.21.0.41.39\n",
            "astunparse                            1.6.3\n",
            "atpublic                              5.1\n",
            "attrs                                 25.3.0\n",
            "audioread                             3.0.1\n",
            "autograd                              1.8.0\n",
            "babel                                 2.17.0\n",
            "backcall                              0.2.0\n",
            "backports.tarfile                     1.2.0\n",
            "beautifulsoup4                        4.13.4\n",
            "betterproto                           2.0.0b6\n",
            "bigframes                             2.12.0\n",
            "bigquery-magics                       0.10.1\n",
            "bleach                                6.2.0\n",
            "blinker                               1.9.0\n",
            "blis                                  1.3.0\n",
            "blobfile                              3.0.0\n",
            "blosc2                                3.6.1\n",
            "bokeh                                 3.7.3\n",
            "Bottleneck                            1.4.2\n",
            "bqplot                                0.12.45\n",
            "branca                                0.8.1\n",
            "Brotli                                1.1.0\n",
            "build                                 1.2.2.post1\n",
            "CacheControl                          0.14.3\n",
            "cachetools                            5.5.2\n",
            "catalogue                             2.0.10\n",
            "certifi                               2025.7.14\n",
            "cffi                                  1.17.1\n",
            "chardet                               5.2.0\n",
            "charset-normalizer                    3.4.2\n",
            "chex                                  0.1.90\n",
            "clarabel                              0.11.1\n",
            "click                                 8.2.1\n",
            "cloudpathlib                          0.21.1\n",
            "cloudpickle                           3.1.1\n",
            "cmake                                 3.31.6\n",
            "cmdstanpy                             1.2.5\n",
            "colorcet                              3.1.0\n",
            "colorlover                            0.3.0\n",
            "colour                                0.1.5\n",
            "community                             1.0.0b1\n",
            "confection                            0.1.5\n",
            "cons                                  0.4.7\n",
            "contourpy                             1.3.2\n",
            "cramjam                               2.10.0\n",
            "cryptography                          43.0.3\n",
            "cuda-python                           12.6.2.post1\n",
            "cudf-cu12                             25.6.0\n",
            "cudf-polars-cu12                      25.6.0\n",
            "cufflinks                             0.17.3\n",
            "cuml-cu12                             25.6.0\n",
            "cupy-cuda12x                          13.3.0\n",
            "curl_cffi                             0.12.0\n",
            "cuvs-cu12                             25.6.1\n",
            "cvxopt                                1.3.2\n",
            "cvxpy                                 1.6.7\n",
            "cycler                                0.12.1\n",
            "cyipopt                               1.5.0\n",
            "cymem                                 2.0.11\n",
            "Cython                                3.0.12\n",
            "dask                                  2025.5.0\n",
            "dask-cuda                             25.6.0\n",
            "dask-cudf-cu12                        25.6.0\n",
            "dataproc-spark-connect                0.8.3\n",
            "datasets                              4.0.0\n",
            "db-dtypes                             1.4.3\n",
            "dbus-python                           1.2.18\n",
            "debugpy                               1.8.15\n",
            "decorator                             4.4.2\n",
            "defusedxml                            0.7.1\n",
            "diffusers                             0.34.0\n",
            "dill                                  0.3.8\n",
            "distributed                           2025.5.0\n",
            "distributed-ucxx-cu12                 0.44.0\n",
            "distro                                1.9.0\n",
            "dlib                                  19.24.6\n",
            "dm-tree                               0.1.9\n",
            "docstring_parser                      0.17.0\n",
            "docutils                              0.21.2\n",
            "dopamine_rl                           4.1.2\n",
            "duckdb                                1.3.2\n",
            "earthengine-api                       1.5.24\n",
            "easydict                              1.13\n",
            "editdistance                          0.8.1\n",
            "eerepr                                0.1.2\n",
            "einops                                0.8.1\n",
            "en_core_web_sm                        3.8.0\n",
            "entrypoints                           0.4\n",
            "et_xmlfile                            2.0.0\n",
            "etils                                 1.13.0\n",
            "etuples                               0.3.10\n",
            "Farama-Notifications                  0.0.4\n",
            "fastai                                2.7.19\n",
            "fastapi                               0.116.1\n",
            "fastcore                              1.7.29\n",
            "fastdownload                          0.0.7\n",
            "fastjsonschema                        2.21.1\n",
            "fastprogress                          1.0.3\n",
            "fastrlock                             0.8.3\n",
            "ffmpy                                 0.6.1\n",
            "filelock                              3.18.0\n",
            "firebase-admin                        6.9.0\n",
            "Flask                                 3.1.1\n",
            "flatbuffers                           25.2.10\n",
            "flax                                  0.10.6\n",
            "folium                                0.20.0\n",
            "fonttools                             4.59.0\n",
            "frozendict                            2.4.6\n",
            "frozenlist                            1.7.0\n",
            "fsspec                                2025.3.0\n",
            "future                                1.0.0\n",
            "gast                                  0.6.0\n",
            "gcsfs                                 2025.3.0\n",
            "GDAL                                  3.8.4\n",
            "gdown                                 5.2.0\n",
            "geemap                                0.35.3\n",
            "geocoder                              1.38.1\n",
            "geographiclib                         2.0\n",
            "geopandas                             1.1.1\n",
            "geopy                                 2.4.1\n",
            "gin-config                            0.5.0\n",
            "gitdb                                 4.0.12\n",
            "GitPython                             3.1.45\n",
            "glob2                                 0.7\n",
            "google                                2.0.3\n",
            "google-ai-generativelanguage          0.6.15\n",
            "google-api-core                       2.25.1\n",
            "google-api-python-client              2.177.0\n",
            "google-auth                           2.38.0\n",
            "google-auth-httplib2                  0.2.0\n",
            "google-auth-oauthlib                  1.2.2\n",
            "google-cloud-aiplatform               1.105.0\n",
            "google-cloud-bigquery                 3.35.1\n",
            "google-cloud-bigquery-connection      1.18.3\n",
            "google-cloud-bigquery-storage         2.32.0\n",
            "google-cloud-core                     2.4.3\n",
            "google-cloud-dataproc                 5.21.0\n",
            "google-cloud-datastore                2.21.0\n",
            "google-cloud-firestore                2.21.0\n",
            "google-cloud-functions                1.20.4\n",
            "google-cloud-iam                      2.19.1\n",
            "google-cloud-language                 2.17.2\n",
            "google-cloud-resource-manager         1.14.2\n",
            "google-cloud-spanner                  3.56.0\n",
            "google-cloud-storage                  2.19.0\n",
            "google-cloud-translate                3.21.1\n",
            "google-colab                          1.0.0\n",
            "google-crc32c                         1.7.1\n",
            "google-genai                          1.27.0\n",
            "google-generativeai                   0.8.5\n",
            "google-pasta                          0.2.0\n",
            "google-resumable-media                2.7.2\n",
            "googleapis-common-protos              1.70.0\n",
            "googledrivedownloader                 1.1.0\n",
            "gradio                                5.38.2\n",
            "gradio_client                         1.11.0\n",
            "graphviz                              0.21\n",
            "greenlet                              3.2.3\n",
            "groovy                                0.1.2\n",
            "grpc-google-iam-v1                    0.14.2\n",
            "grpc-interceptor                      0.15.4\n",
            "grpcio                                1.74.0\n",
            "grpcio-status                         1.71.2\n",
            "grpclib                               0.4.8\n",
            "gspread                               6.2.1\n",
            "gspread-dataframe                     4.0.0\n",
            "gym                                   0.25.2\n",
            "gym-notices                           0.0.8\n",
            "gymnasium                             1.2.0\n",
            "h11                                   0.16.0\n",
            "h2                                    4.2.0\n",
            "h5netcdf                              1.6.3\n",
            "h5py                                  3.14.0\n",
            "hdbscan                               0.8.40\n",
            "hf_transfer                           0.1.9\n",
            "hf-xet                                1.1.5\n",
            "highspy                               1.11.0\n",
            "holidays                              0.77\n",
            "holoviews                             1.21.0\n",
            "hpack                                 4.1.0\n",
            "html5lib                              1.1\n",
            "httpcore                              1.0.9\n",
            "httpimport                            1.4.1\n",
            "httplib2                              0.22.0\n",
            "httpx                                 0.28.1\n",
            "huggingface-hub                       0.34.1\n",
            "humanize                              4.12.3\n",
            "hyperframe                            6.1.0\n",
            "hyperopt                              0.2.7\n",
            "ibis-framework                        9.5.0\n",
            "idna                                  3.10\n",
            "imageio                               2.37.0\n",
            "imageio-ffmpeg                        0.6.0\n",
            "imagesize                             1.4.1\n",
            "imbalanced-learn                      0.13.0\n",
            "immutabledict                         4.2.1\n",
            "importlib_metadata                    8.7.0\n",
            "importlib_resources                   6.5.2\n",
            "imutils                               0.5.4\n",
            "inflect                               7.5.0\n",
            "iniconfig                             2.1.0\n",
            "intel-cmplr-lib-ur                    2025.2.0\n",
            "intel-openmp                          2025.2.0\n",
            "ipyevents                             2.0.2\n",
            "ipyfilechooser                        0.6.0\n",
            "ipykernel                             6.17.1\n",
            "ipyleaflet                            0.20.0\n",
            "ipyparallel                           8.8.0\n",
            "ipython                               7.34.0\n",
            "ipython-genutils                      0.2.0\n",
            "ipython-sql                           0.5.0\n",
            "ipytree                               0.2.2\n",
            "ipywidgets                            7.7.1\n",
            "itsdangerous                          2.2.0\n",
            "jaraco.classes                        3.4.0\n",
            "jaraco.context                        6.0.1\n",
            "jaraco.functools                      4.2.1\n",
            "jax                                   0.5.2\n",
            "jax-cuda12-pjrt                       0.5.1\n",
            "jax-cuda12-plugin                     0.5.1\n",
            "jaxlib                                0.5.1\n",
            "jeepney                               0.9.0\n",
            "jieba                                 0.42.1\n",
            "Jinja2                                3.1.6\n",
            "jiter                                 0.10.0\n",
            "joblib                                1.5.1\n",
            "jsonpatch                             1.33\n",
            "jsonpickle                            4.1.1\n",
            "jsonpointer                           3.0.0\n",
            "jsonschema                            4.25.0\n",
            "jsonschema-specifications             2025.4.1\n",
            "jupyter-client                        6.1.12\n",
            "jupyter-console                       6.1.0\n",
            "jupyter_core                          5.8.1\n",
            "jupyter_kernel_gateway                2.5.2\n",
            "jupyter-leaflet                       0.20.0\n",
            "jupyter-server                        1.16.0\n",
            "jupyterlab_pygments                   0.3.0\n",
            "jupyterlab_widgets                    3.0.15\n",
            "jupytext                              1.17.2\n",
            "kaggle                                1.7.4.5\n",
            "kagglehub                             0.3.12\n",
            "keras                                 3.8.0\n",
            "keras-hub                             0.18.1\n",
            "keras-nlp                             0.18.1\n",
            "keyring                               25.6.0\n",
            "keyrings.google-artifactregistry-auth 1.1.2\n",
            "kiwisolver                            1.4.8\n",
            "langchain                             0.3.27\n",
            "langchain-core                        0.3.72\n",
            "langchain-text-splitters              0.3.9\n",
            "langcodes                             3.5.0\n",
            "langsmith                             0.4.8\n",
            "language_data                         1.3.0\n",
            "launchpadlib                          1.10.16\n",
            "lazr.restfulclient                    0.14.4\n",
            "lazr.uri                              1.0.6\n",
            "lazy_loader                           0.4\n",
            "libclang                              18.1.1\n",
            "libcudf-cu12                          25.6.0\n",
            "libcugraph-cu12                       25.6.0\n",
            "libcuml-cu12                          25.6.0\n",
            "libcuvs-cu12                          25.6.1\n",
            "libkvikio-cu12                        25.6.0\n",
            "libpysal                              4.13.0\n",
            "libraft-cu12                          25.6.0\n",
            "librmm-cu12                           25.6.0\n",
            "librosa                               0.11.0\n",
            "libucx-cu12                           1.18.1\n",
            "libucxx-cu12                          0.44.0\n",
            "lightgbm                              4.6.0\n",
            "linkify-it-py                         2.0.3\n",
            "llvmlite                              0.43.0\n",
            "locket                                1.0.0\n",
            "logical-unification                   0.4.6\n",
            "lxml                                  5.4.0\n",
            "Mako                                  1.1.3\n",
            "marisa-trie                           1.2.1\n",
            "Markdown                              3.8.2\n",
            "markdown-it-py                        3.0.0\n",
            "MarkupSafe                            3.0.2\n",
            "matplotlib                            3.10.0\n",
            "matplotlib-inline                     0.1.7\n",
            "matplotlib-venn                       1.1.2\n",
            "mdit-py-plugins                       0.4.2\n",
            "mdurl                                 0.1.2\n",
            "miniKanren                            1.0.5\n",
            "missingno                             0.5.2\n",
            "mistune                               3.1.3\n",
            "mizani                                0.13.5\n",
            "mkl                                   2025.2.0\n",
            "ml-dtypes                             0.4.1\n",
            "mlxtend                               0.23.4\n",
            "more-itertools                        10.7.0\n",
            "moviepy                               1.0.3\n",
            "mpmath                                1.3.0\n",
            "msgpack                               1.1.1\n",
            "multidict                             6.6.3\n",
            "multipledispatch                      1.0.0\n",
            "multiprocess                          0.70.16\n",
            "multitasking                          0.0.12\n",
            "murmurhash                            1.0.13\n",
            "music21                               9.3.0\n",
            "namex                                 0.1.0\n",
            "narwhals                              1.48.1\n",
            "natsort                               8.4.0\n",
            "nbclassic                             1.3.1\n",
            "nbclient                              0.10.2\n",
            "nbconvert                             7.16.6\n",
            "nbformat                              5.10.4\n",
            "ndindex                               1.10.0\n",
            "nest-asyncio                          1.6.0\n",
            "networkx                              3.5\n",
            "nibabel                               5.3.2\n",
            "nltk                                  3.9.1\n",
            "notebook                              6.5.7\n",
            "notebook_shim                         0.2.4\n",
            "numba                                 0.60.0\n",
            "numba-cuda                            0.11.0\n",
            "numexpr                               2.11.0\n",
            "numpy                                 2.0.2\n",
            "nvidia-cublas-cu12                    12.5.3.2\n",
            "nvidia-cuda-cupti-cu12                12.5.82\n",
            "nvidia-cuda-nvcc-cu12                 12.5.82\n",
            "nvidia-cuda-nvrtc-cu12                12.5.82\n",
            "nvidia-cuda-runtime-cu12              12.5.82\n",
            "nvidia-cudnn-cu12                     9.3.0.75\n",
            "nvidia-cufft-cu12                     11.2.3.61\n",
            "nvidia-curand-cu12                    10.3.6.82\n",
            "nvidia-cusolver-cu12                  11.6.3.83\n",
            "nvidia-cusparse-cu12                  12.5.1.3\n",
            "nvidia-cusparselt-cu12                0.6.2\n",
            "nvidia-ml-py                          12.575.51\n",
            "nvidia-nccl-cu12                      2.21.5\n",
            "nvidia-nvjitlink-cu12                 12.5.82\n",
            "nvidia-nvtx-cu12                      12.4.127\n",
            "nvtx                                  0.2.12\n",
            "nx-cugraph-cu12                       25.6.0\n",
            "oauth2client                          4.1.3\n",
            "oauthlib                              3.3.1\n",
            "omegaconf                             2.3.0\n",
            "openai                                1.97.1\n",
            "opencv-contrib-python                 4.12.0.88\n",
            "opencv-python                         4.12.0.88\n",
            "opencv-python-headless                4.12.0.88\n",
            "openpyxl                              3.1.5\n",
            "opt_einsum                            3.4.0\n",
            "optax                                 0.2.5\n",
            "optree                                0.17.0\n",
            "orbax-checkpoint                      0.11.19\n",
            "orjson                                3.11.1\n",
            "osqp                                  1.0.4\n",
            "packaging                             25.0\n",
            "pandas                                2.2.2\n",
            "pandas-datareader                     0.10.0\n",
            "pandas-gbq                            0.29.2\n",
            "pandas-stubs                          2.2.2.240909\n",
            "pandocfilters                         1.5.1\n",
            "panel                                 1.7.5\n",
            "param                                 2.2.1\n",
            "parso                                 0.8.4\n",
            "parsy                                 2.1\n",
            "partd                                 1.4.2\n",
            "patsy                                 1.0.1\n",
            "peewee                                3.18.2\n",
            "peft                                  0.16.0\n",
            "pexpect                               4.9.0\n",
            "pickleshare                           0.7.5\n",
            "pillow                                11.3.0\n",
            "pip                                   24.1.2\n",
            "platformdirs                          4.3.8\n",
            "plotly                                5.24.1\n",
            "plotnine                              0.14.5\n",
            "pluggy                                1.6.0\n",
            "ply                                   3.11\n",
            "polars                                1.25.0\n",
            "pooch                                 1.8.2\n",
            "portpicker                            1.5.2\n",
            "preshed                               3.0.10\n",
            "prettytable                           3.16.0\n",
            "proglog                               0.1.12\n",
            "progressbar2                          4.5.0\n",
            "prometheus_client                     0.22.1\n",
            "promise                               2.3\n",
            "prompt_toolkit                        3.0.51\n",
            "propcache                             0.3.2\n",
            "prophet                               1.1.7\n",
            "proto-plus                            1.26.1\n",
            "protobuf                              5.29.5\n",
            "psutil                                5.9.5\n",
            "psycopg2                              2.9.10\n",
            "psygnal                               0.14.0\n",
            "ptyprocess                            0.7.0\n",
            "py-cpuinfo                            9.0.0\n",
            "py4j                                  0.10.9.7\n",
            "pyarrow                               18.1.0\n",
            "pyasn1                                0.6.1\n",
            "pyasn1_modules                        0.4.2\n",
            "pycairo                               1.28.0\n",
            "pycocotools                           2.0.10\n",
            "pycparser                             2.22\n",
            "pycryptodomex                         3.23.0\n",
            "pydantic                              2.11.7\n",
            "pydantic_core                         2.33.2\n",
            "pydata-google-auth                    1.9.1\n",
            "pydot                                 3.0.4\n",
            "pydotplus                             2.0.2\n",
            "PyDrive                               1.3.1\n",
            "PyDrive2                              1.21.3\n",
            "pydub                                 0.25.1\n",
            "pyerfa                                2.0.1.5\n",
            "pygame                                2.6.1\n",
            "pygit2                                1.18.0\n",
            "Pygments                              2.19.2\n",
            "PyGObject                             3.42.0\n",
            "PyJWT                                 2.10.1\n",
            "pylibcudf-cu12                        25.6.0\n",
            "pylibcugraph-cu12                     25.6.0\n",
            "pylibraft-cu12                        25.6.0\n",
            "pymc                                  5.25.1\n",
            "pynndescent                           0.5.13\n",
            "pynvjitlink-cu12                      0.7.0\n",
            "pynvml                                12.0.0\n",
            "pyogrio                               0.11.0\n",
            "pyomo                                 6.9.2\n",
            "PyOpenGL                              3.1.9\n",
            "pyOpenSSL                             24.2.1\n",
            "pyparsing                             3.2.3\n",
            "pyperclip                             1.9.0\n",
            "pyproj                                3.7.1\n",
            "pyproject_hooks                       1.2.0\n",
            "pyshp                                 2.3.1\n",
            "PySocks                               1.7.1\n",
            "pyspark                               3.5.1\n",
            "pytensor                              2.31.7\n",
            "pytest                                8.4.1\n",
            "python-apt                            0.0.0\n",
            "python-box                            7.3.2\n",
            "python-dateutil                       2.9.0.post0\n",
            "python-louvain                        0.16\n",
            "python-multipart                      0.0.20\n",
            "python-slugify                        8.0.4\n",
            "python-snappy                         0.7.3\n",
            "python-utils                          3.9.1\n",
            "pytz                                  2025.2\n",
            "pyviz_comms                           3.0.6\n",
            "PyWavelets                            1.8.0\n",
            "PyYAML                                6.0.2\n",
            "pyzmq                                 26.2.1\n",
            "raft-dask-cu12                        25.6.0\n",
            "rapids-dask-dependency                25.6.0\n",
            "rapids-logger                         0.1.1\n",
            "ratelim                               0.1.6\n",
            "referencing                           0.36.2\n",
            "regex                                 2024.11.6\n",
            "requests                              2.32.3\n",
            "requests-oauthlib                     2.0.0\n",
            "requests-toolbelt                     1.0.0\n",
            "requirements-parser                   0.9.0\n",
            "rich                                  13.9.4\n",
            "rmm-cu12                              25.6.0\n",
            "roman-numerals-py                     3.1.0\n",
            "rpds-py                               0.26.0\n",
            "rpy2                                  3.5.17\n",
            "rsa                                   4.9.1\n",
            "ruff                                  0.12.5\n",
            "safehttpx                             0.1.6\n",
            "safetensors                           0.5.3\n",
            "scikit-image                          0.25.2\n",
            "scikit-learn                          1.6.1\n",
            "scipy                                 1.16.0\n",
            "scooby                                0.10.1\n",
            "scs                                   3.2.7.post2\n",
            "seaborn                               0.13.2\n",
            "SecretStorage                         3.3.3\n",
            "semantic-version                      2.10.0\n",
            "Send2Trash                            1.8.3\n",
            "sentence-transformers                 4.1.0\n",
            "sentencepiece                         0.2.0\n",
            "sentry-sdk                            2.33.2\n",
            "setuptools                            75.2.0\n",
            "shap                                  0.48.0\n",
            "shapely                               2.1.1\n",
            "shellingham                           1.5.4\n",
            "simple-parsing                        0.1.7\n",
            "simplejson                            3.20.1\n",
            "simsimd                               6.5.0\n",
            "six                                   1.17.0\n",
            "sklearn-compat                        0.1.3\n",
            "sklearn-pandas                        2.2.0\n",
            "slicer                                0.0.8\n",
            "smart_open                            7.3.0.post1\n",
            "smmap                                 5.0.2\n",
            "sniffio                               1.3.1\n",
            "snowballstemmer                       3.0.1\n",
            "sortedcontainers                      2.4.0\n",
            "soundfile                             0.13.1\n",
            "soupsieve                             2.7\n",
            "soxr                                  0.5.0.post1\n",
            "spacy                                 3.8.7\n",
            "spacy-legacy                          3.0.12\n",
            "spacy-loggers                         1.0.5\n",
            "spanner-graph-notebook                1.1.6\n",
            "Sphinx                                8.2.3\n",
            "sphinxcontrib-applehelp               2.0.0\n",
            "sphinxcontrib-devhelp                 2.0.0\n",
            "sphinxcontrib-htmlhelp                2.1.0\n",
            "sphinxcontrib-jsmath                  1.0.1\n",
            "sphinxcontrib-qthelp                  2.0.0\n",
            "sphinxcontrib-serializinghtml         2.0.0\n",
            "SQLAlchemy                            2.0.41\n",
            "sqlglot                               25.20.2\n",
            "sqlparse                              0.5.3\n",
            "srsly                                 2.5.1\n",
            "stanio                                0.5.1\n",
            "starlette                             0.47.2\n",
            "statsmodels                           0.14.5\n",
            "stringzilla                           3.12.5\n",
            "stumpy                                1.13.0\n",
            "sympy                                 1.13.1\n",
            "tables                                3.10.2\n",
            "tabulate                              0.9.0\n",
            "tbb                                   2022.2.0\n",
            "tblib                                 3.1.0\n",
            "tcmlib                                1.4.0\n",
            "tenacity                              8.5.0\n",
            "tensorboard                           2.18.0\n",
            "tensorboard-data-server               0.7.2\n",
            "tensorflow                            2.18.0\n",
            "tensorflow-datasets                   4.9.9\n",
            "tensorflow_decision_forests           1.11.0\n",
            "tensorflow-hub                        0.16.1\n",
            "tensorflow-io-gcs-filesystem          0.37.1\n",
            "tensorflow-metadata                   1.17.2\n",
            "tensorflow-probability                0.25.0\n",
            "tensorflow-text                       2.18.1\n",
            "tensorstore                           0.1.74\n",
            "termcolor                             3.1.0\n",
            "terminado                             0.18.1\n",
            "text-unidecode                        1.3\n",
            "textblob                              0.19.0\n",
            "tf_keras                              2.18.0\n",
            "tf-slim                               1.1.0\n",
            "thinc                                 8.3.6\n",
            "threadpoolctl                         3.6.0\n",
            "tifffile                              2025.6.11\n",
            "tiktoken                              0.9.0\n",
            "timm                                  1.0.19\n",
            "tinycss2                              1.4.0\n",
            "tokenizers                            0.21.2\n",
            "toml                                  0.10.2\n",
            "tomlkit                               0.13.3\n",
            "toolz                                 0.12.1\n",
            "torch                                 2.6.0+cu124\n",
            "torchao                               0.10.0\n",
            "torchaudio                            2.6.0+cu124\n",
            "torchdata                             0.11.0\n",
            "torchsummary                          1.5.1\n",
            "torchtune                             0.6.1\n",
            "torchvision                           0.21.0+cu124\n",
            "tornado                               6.4.2\n",
            "tqdm                                  4.67.1\n",
            "traitlets                             5.7.1\n",
            "traittypes                            0.2.1\n",
            "transformers                          4.54.0\n",
            "treelite                              4.4.1\n",
            "treescope                             0.1.9\n",
            "triton                                3.2.0\n",
            "tsfresh                               0.21.0\n",
            "tweepy                                4.16.0\n",
            "typeguard                             4.4.4\n",
            "typer                                 0.16.0\n",
            "types-pytz                            2025.2.0.20250516\n",
            "types-setuptools                      80.9.0.20250529\n",
            "typing_extensions                     4.14.1\n",
            "typing-inspection                     0.4.1\n",
            "tzdata                                2025.2\n",
            "tzlocal                               5.3.1\n",
            "uc-micro-py                           1.0.3\n",
            "ucx-py-cu12                           0.44.0\n",
            "ucxx-cu12                             0.44.0\n",
            "umap-learn                            0.5.9.post2\n",
            "umf                                   0.11.0\n",
            "uritemplate                           4.2.0\n",
            "urllib3                               2.5.0\n",
            "uvicorn                               0.35.0\n",
            "vega-datasets                         0.9.0\n",
            "wadllib                               1.3.6\n",
            "wandb                                 0.21.0\n",
            "wasabi                                1.1.3\n",
            "wcwidth                               0.2.13\n",
            "weasel                                0.4.1\n",
            "webcolors                             24.11.1\n",
            "webencodings                          0.5.1\n",
            "websocket-client                      1.8.0\n",
            "websockets                            15.0.1\n",
            "Werkzeug                              3.1.3\n",
            "wheel                                 0.45.1\n",
            "widgetsnbextension                    3.6.10\n",
            "wordcloud                             1.9.4\n",
            "wrapt                                 1.17.2\n",
            "wurlitzer                             3.1.1\n",
            "xarray                                2025.7.1\n",
            "xarray-einstats                       0.9.1\n",
            "xgboost                               3.0.2\n",
            "xlrd                                  2.0.2\n",
            "xxhash                                3.5.0\n",
            "xyzservices                           2025.4.0\n",
            "yarl                                  1.20.1\n",
            "ydf                                   0.13.0\n",
            "yellowbrick                           1.5\n",
            "yfinance                              0.2.65\n",
            "zict                                  3.0.0\n",
            "zipp                                  3.23.0\n",
            "zstandard                             0.23.0\n"
          ]
        }
      ],
      "source": [
        "# Run a \"magic\" command to list the modules that are currently installed in the python environment.\n",
        "# Here the symbol \"%\" is used to indicate that the command is a magic command.  The command \"pip\"\n",
        "# is used to install python packages.  The command \"list\" is used to list the packages that are\n",
        "# currently installed.  The result of this command is a list of strings, each string representing\n",
        "# a package that is installed.  If you are trying to import a module and you get an error, you can\n",
        "# check to make sure that the package is in this list.\n",
        "%pip list"
      ]
    },
    {
      "cell_type": "markdown",
      "metadata": {
        "id": "Ac061_wIM64K"
      },
      "source": [
        "To get information about any of these modules, we need to import it and then use ```!module?``` or ```help(module)``` to get additional information about the package. What is displayed is from a specifically formatted comment called a ```docstring``` (documentation string) that comes along with the package."
      ]
    },
    {
      "cell_type": "code",
      "execution_count": 3,
      "metadata": {
        "id": "MOBgOvXAMt9x",
        "tags": []
      },
      "outputs": [],
      "source": [
        "# Let's get some help on the numpy module.  We can import the module and then use the help command\n",
        "import numpy\n",
        "# If we want to learn more about a module, we can use the help command !(name)?\n",
        "!numpy?"
      ]
    },
    {
      "cell_type": "code",
      "execution_count": null,
      "metadata": {
        "id": "PmrgQQuBPadL"
      },
      "outputs": [],
      "source": [
        "# Or we can use the help function:\n",
        "help(numpy)"
      ]
    },
    {
      "cell_type": "code",
      "execution_count": null,
      "metadata": {
        "id": "9voDMgz0PadL"
      },
      "outputs": [],
      "source": [
        "numpy?"
      ]
    },
    {
      "cell_type": "markdown",
      "metadata": {
        "id": "_gTByrOwWrD8"
      },
      "source": [
        "### **1.A) importing different packages or sub-modules**\n",
        "\n",
        "```import``` in Python is the command to load in a particular ```package``` (large collection of code with several submodules) or ```module``` (single files up to medium sized classes).\n",
        "\n",
        "When you import you have several options:\n",
        "\n",
        "```python\n",
        "# import the entire package all at once\n",
        "import numpy\n",
        "\n",
        "# import the package and use a (simpler) variable name, \"np\" to refer to it\n",
        "import numpy as np\n",
        "\n",
        "# import a specific submodule or function from the package\n",
        "from numpy import linalg as la\n",
        "\n",
        "# importing one function only from the sub - module linear algebra contained in numpy\n",
        "from numpy.linalg import svd as svd\n",
        "```"
      ]
    },
    {
      "cell_type": "code",
      "execution_count": 5,
      "metadata": {
        "colab": {
          "base_uri": "https://localhost:8080/",
          "height": 35
        },
        "id": "bXXO_iNVvbqP",
        "outputId": "f411f983-2440-434e-c0c5-bd7766c0dac1",
        "tags": []
      },
      "outputs": [
        {
          "output_type": "execute_result",
          "data": {
            "text/plain": [
              "'2.0.2'"
            ],
            "application/vnd.google.colaboratory.intrinsic+json": {
              "type": "string"
            }
          },
          "metadata": {},
          "execution_count": 5
        }
      ],
      "source": [
        "# It is very common when using numpy to import it with an alias.  The alias is a shorter name that\n",
        "# can be used to refer to the module.  The alias is specified using the \"as\" keyword.  Here we import\n",
        "# numpy with the alias \"np\".  This is a very common alias for numpy.\n",
        "import numpy as np\n",
        "\n",
        "# if we want to know the version:\n",
        "np.__version__"
      ]
    },
    {
      "cell_type": "code",
      "execution_count": 6,
      "metadata": {
        "colab": {
          "base_uri": "https://localhost:8080/",
          "height": 35
        },
        "id": "TNCoa_yYWqdz",
        "outputId": "e71fd397-1925-4844-f0f2-5caf169338cf",
        "tags": []
      },
      "outputs": [
        {
          "output_type": "execute_result",
          "data": {
            "text/plain": [
              "'/usr/local/lib/python3.11/dist-packages/numpy/linalg/__init__.py'"
            ],
            "application/vnd.google.colaboratory.intrinsic+json": {
              "type": "string"
            }
          },
          "metadata": {},
          "execution_count": 6
        }
      ],
      "source": [
        "# If we only want to import a specific function from a module, we can do that.  Here we import the\n",
        "# function \"linalg\" from the module \"numpy\".  This is useful if we only need a specific function\n",
        "# from a module and we don't want to import the entire module.\n",
        "from numpy import linalg as la #import only the linear algebra file\n",
        "# or if we want to know where a specific file is:\n",
        "la.__file__"
      ]
    },
    {
      "cell_type": "code",
      "execution_count": 7,
      "metadata": {
        "tags": [],
        "id": "Nr3LhemcPadN",
        "outputId": "0f994785-1c3b-42d2-8c9d-63f98a93c76e",
        "colab": {
          "base_uri": "https://localhost:8080/",
          "height": 191
        }
      },
      "outputs": [
        {
          "output_type": "execute_result",
          "data": {
            "text/plain": [
              "'\\n``numpy.linalg``\\n================\\n\\nThe NumPy linear algebra functions rely on BLAS and LAPACK to provide efficient\\nlow level implementations of standard linear algebra algorithms. Those\\nlibraries may be provided by NumPy itself using C versions of a subset of their\\nreference implementations but, when possible, highly optimized libraries that\\ntake advantage of specialized processor functionality are preferred. Examples\\nof such libraries are OpenBLAS, MKL (TM), and ATLAS. Because those libraries\\nare multithreaded and processor dependent, environmental variables and external\\npackages such as threadpoolctl may be needed to control the number of threads\\nor specify the processor architecture.\\n\\n- OpenBLAS: https://www.openblas.net/\\n- threadpoolctl: https://github.com/joblib/threadpoolctl\\n\\nPlease note that the most-used linear algebra functions in NumPy are present in\\nthe main ``numpy`` namespace rather than in ``numpy.linalg``.  There are:\\n``dot``, ``vdot``, ``inner``, ``outer``, ``matmul``, ``tensordot``, ``einsum``,\\n``einsum_path`` and ``kron``.\\n\\nFunctions present in numpy.linalg are listed below.\\n\\n\\nMatrix and vector products\\n--------------------------\\n\\n   cross\\n   multi_dot\\n   matrix_power\\n   tensordot\\n   matmul\\n\\nDecompositions\\n--------------\\n\\n   cholesky\\n   outer\\n   qr\\n   svd\\n   svdvals\\n\\nMatrix eigenvalues\\n------------------\\n\\n   eig\\n   eigh\\n   eigvals\\n   eigvalsh\\n\\nNorms and other numbers\\n-----------------------\\n\\n   norm\\n   matrix_norm\\n   vector_norm\\n   cond\\n   det\\n   matrix_rank\\n   slogdet\\n   trace (Array API compatible)\\n\\nSolving equations and inverting matrices\\n----------------------------------------\\n\\n   solve\\n   tensorsolve\\n   lstsq\\n   inv\\n   pinv\\n   tensorinv\\n\\nOther matrix operations\\n-----------------------\\n\\n   diagonal (Array API compatible)\\n   matrix_transpose (Array API compatible)\\n\\nExceptions\\n----------\\n\\n   LinAlgError\\n\\n'"
            ],
            "application/vnd.google.colaboratory.intrinsic+json": {
              "type": "string"
            }
          },
          "metadata": {},
          "execution_count": 7
        }
      ],
      "source": [
        "# or if we want just the docstring:\n",
        "la.__doc__"
      ]
    },
    {
      "cell_type": "code",
      "execution_count": 8,
      "metadata": {
        "id": "FT5tUqRVYAOl",
        "tags": []
      },
      "outputs": [],
      "source": [
        "# Let's import the SVD function from the numpy module and use the help command to learn more about it.\n",
        "from numpy.linalg import svd as svd\n",
        "svd?"
      ]
    },
    {
      "cell_type": "markdown",
      "metadata": {
        "id": "Zhfov8rCmBan",
        "jp-MarkdownHeadingCollapsed": true,
        "tags": []
      },
      "source": [
        "#### **Importing local packages**\n",
        "You can also write your own packages and then import them, but the folders need to be written in the right format, and the folders need to be in the search path.\n",
        "\n",
        "To learn more, see the page \"Writing your own callable functions and packages\" on canvas, but here is an example that we have used already. Let's look at what is in the folder \"../BIOM480A5\"."
      ]
    },
    {
      "cell_type": "code",
      "execution_count": 9,
      "metadata": {
        "id": "d4tOK3N_PadO",
        "outputId": "bed0a933-2cb6-4562-e082-b3e4eda83ab9",
        "colab": {
          "base_uri": "https://localhost:8080/"
        }
      },
      "outputs": [
        {
          "output_type": "stream",
          "name": "stdout",
          "text": [
            "Cloning https://github.com/QI2lab/2025-CBP-SummerSchool into /content/2025-CBP-SummerSchool …\n",
            "✔️ Now in /content/2025-CBP-SummerSchool\n"
          ]
        }
      ],
      "source": [
        "# @title Initialize python environment for the course\n",
        "\n",
        "import subprocess\n",
        "\n",
        "# 2. Define your repo\n",
        "REPO_URL = \"https://github.com/QI2lab/2025-CBP-SummerSchool\"\n",
        "REPO_NAME = \"2025-CBP-SummerSchool\"\n",
        "REPO_PATH = os.path.join(\"/content\", REPO_NAME)\n",
        "\n",
        "# 3. Clone if missing\n",
        "if not os.path.isdir(REPO_PATH):\n",
        "    print(f\"Cloning {REPO_URL} into {REPO_PATH} …\")\n",
        "    subprocess.check_call([\"git\", \"clone\", REPO_URL, REPO_PATH])\n",
        "else:\n",
        "    print(f\"❯ {REPO_NAME} already exists at {REPO_PATH}\")\n",
        "\n",
        "# 4. Change working directory\n",
        "os.chdir(REPO_PATH)\n",
        "print(f\"✔️ Now in {os.getcwd()}\")\n",
        "sys.path.append(os.path.abspath('BIOM480A5'))"
      ]
    },
    {
      "cell_type": "code",
      "execution_count": 10,
      "metadata": {
        "id": "zRZa5C3-Pada"
      },
      "outputs": [],
      "source": [
        "# Let's look at the contents of the directory \"../BIOM480A5\".  We can use the listdir function from\n",
        "# the os module to list the contents of a directory.  The argument to the listdir function is the\n",
        "# path to the directory.  Here we use the function path from the os module to get the absolute path\n",
        "# to the directory \"../BIOM480A5\".  The result of the listdir function is a list of strings, each\n",
        "# string representing a file or directory in the directory.\n",
        "try:\n",
        "    os.listdir(os.path.abspath('../BIOM480A5'))\n",
        "    BIOM480A5_path = os.path.abspath('../BIOM480A5')\n",
        "except:\n",
        "    os.listdir(os.path.abspath('BIOM480A5'))\n",
        "    BIOM480A5_path = os.path.abspath('BIOM480A5')\n",
        "# Note: The try and except statements are used to catch errors.  If an error occurs in the try block,\n",
        "# then the except block is executed.  This is useful for catching errors that may occur when running\n",
        "# code.  Here we use the try and except statements to catch an error that may occur if the path\n",
        "# \"../BIOM480A5\" does not exist because we open the notebook from a different directory."
      ]
    },
    {
      "cell_type": "markdown",
      "metadata": {
        "id": "JfCmMrtNPadb"
      },
      "source": [
        "Notice, the file ```\"__init__.py ``` in the folder.  This is an empty file that is used to indicate that the directory is a python package.\n",
        "\n",
        "To import the module BIOM480A5, we need to make sure that this folder is in the search path."
      ]
    },
    {
      "cell_type": "code",
      "execution_count": 13,
      "metadata": {
        "id": "3H2Hs0FmPadb"
      },
      "outputs": [],
      "source": [
        "# Add the path to the directory \"../BIOM480A5\" to the list of paths that python will look for modules\n",
        "# to import.  This is useful if you want to import a module from a directory that is not in the default\n",
        "# list of paths.\n",
        "sys.path.append(BIOM480A5_path)\n",
        "\n",
        "# now we can import the module \"BIOM480A5_Quizzes\" from the directory \"../BIOM480A5\".\n",
        "import BIOM480A5_Quizzes\n",
        "\n",
        "# Or we can import a specific function from the module\n",
        "from BIOM480A5_Quizzes import multiple_choice_quiz"
      ]
    },
    {
      "cell_type": "markdown",
      "metadata": {
        "id": "PxUzwVBVPadc"
      },
      "source": [
        "### **Refreshing import to get changes to local libraries**\n",
        "\n",
        "If you make changes to a local library, you will need to reload your imported functions in order to use the new codes.  Here is an example for how to do this:"
      ]
    },
    {
      "cell_type": "code",
      "execution_count": 14,
      "metadata": {
        "id": "ycXDR0FYPadd",
        "outputId": "bbfbeee2-61bf-4915-937e-9555113cde10",
        "colab": {
          "base_uri": "https://localhost:8080/"
        }
      },
      "outputs": [
        {
          "output_type": "execute_result",
          "data": {
            "text/plain": [
              "<module 'BIOM480A5_Quizzes' from '/content/2025-CBP-SummerSchool/BIOM480A5/BIOM480A5_Quizzes.py'>"
            ]
          },
          "metadata": {},
          "execution_count": 14
        }
      ],
      "source": [
        "import importlib\n",
        "\n",
        "# If we make changes to the module \"BIOM480A5_Quizzes\" and we want to reload the module, we can use\n",
        "importlib.reload(BIOM480A5_Quizzes)"
      ]
    },
    {
      "cell_type": "markdown",
      "metadata": {
        "id": "F3BLTyKhlX7l",
        "tags": []
      },
      "source": [
        "### **1.B) Using packages**\n",
        "\n",
        "Once we have imported a package, you can call any ```submodules``` or functions by ```module.function()```"
      ]
    },
    {
      "cell_type": "code",
      "execution_count": 15,
      "metadata": {
        "colab": {
          "base_uri": "https://localhost:8080/"
        },
        "id": "kXotxOskV2TO",
        "outputId": "3e5d1293-e575-4676-bffb-70d346f0f4b4",
        "tags": []
      },
      "outputs": [
        {
          "output_type": "stream",
          "name": "stdout",
          "text": [
            "(10, 10)\n",
            "(10,)\n",
            "(100, 100)\n"
          ]
        }
      ],
      "source": [
        "# Let's use the numpy and SVD functions that we imported to calculate the SVD of a matrix.  We will\n",
        "# create a matrix using the numpy function \"ones\" and then use the SVD function to calculate the\n",
        "# singular value decomposition of the matrix.\n",
        "arr = np.ones([10,100])\n",
        "svd_results = la.svd(arr)\n",
        "\n",
        "# The result of the SVD function is a tuple of three arrays.  The first array is the U matrix, the\n",
        "# second array is the singular values, and the third array is the V matrix.  We can access these\n",
        "# arrays by indexing the tuple.\n",
        "U = svd_results[0]\n",
        "S = svd_results[1]\n",
        "V = svd_results[2]\n",
        "\n",
        "# Let's print the shapes (i.e., sizes) of the U, S, and V arrays.\n",
        "print(U.shape)\n",
        "print(S.shape)\n",
        "print(V.shape)"
      ]
    },
    {
      "cell_type": "markdown",
      "metadata": {
        "id": "PKdiuk7rlSUJ"
      },
      "source": [
        "### **1.C) Installing new packages**"
      ]
    },
    {
      "cell_type": "markdown",
      "metadata": {
        "id": "64Q6SW3jNZmp"
      },
      "source": [
        "To find more packages to install, usually they are stored on [PyPI](https://pypi.org/) - Python Package Index.\n",
        "\n",
        "Because there are so many user supplied packages, searching for specific modules can be difficult difficult within PyPI, so we recommend finding packages via searching academic papers or Google scholar for your specific purposes and using the authors' particular Githubs!\n",
        "\n",
        "From there, you can install a package into your environment by using ```!pip``` according to the package's instructions."
      ]
    },
    {
      "cell_type": "code",
      "execution_count": 16,
      "metadata": {
        "colab": {
          "base_uri": "https://localhost:8080/"
        },
        "id": "-5hjsl9LNyvV",
        "outputId": "096277ea-419b-4ec9-bcce-fc9661b16fb7",
        "tags": []
      },
      "outputs": [
        {
          "output_type": "stream",
          "name": "stdout",
          "text": [
            "Collecting scikit-bio\n",
            "  Downloading scikit_bio-0.7.0-cp311-cp311-manylinux_2_17_x86_64.manylinux2014_x86_64.whl.metadata (9.8 kB)\n",
            "Requirement already satisfied: requests>=2.20.0 in /usr/local/lib/python3.11/dist-packages (from scikit-bio) (2.32.3)\n",
            "Requirement already satisfied: decorator>=3.4.2 in /usr/local/lib/python3.11/dist-packages (from scikit-bio) (4.4.2)\n",
            "Requirement already satisfied: natsort>=4.0.3 in /usr/local/lib/python3.11/dist-packages (from scikit-bio) (8.4.0)\n",
            "Requirement already satisfied: numpy>=1.17.0 in /usr/local/lib/python3.11/dist-packages (from scikit-bio) (2.0.2)\n",
            "Requirement already satisfied: pandas>=1.5.0 in /usr/local/lib/python3.11/dist-packages (from scikit-bio) (2.2.2)\n",
            "Requirement already satisfied: scipy>=1.9.0 in /usr/local/lib/python3.11/dist-packages (from scikit-bio) (1.16.0)\n",
            "Requirement already satisfied: h5py>=3.6.0 in /usr/local/lib/python3.11/dist-packages (from scikit-bio) (3.14.0)\n",
            "Collecting biom-format>=2.1.16 (from scikit-bio)\n",
            "  Downloading biom-format-2.1.16.tar.gz (11.7 MB)\n",
            "\u001b[2K     \u001b[90m━━━━━━━━━━━━━━━━━━━━━━━━━━━━━━━━━━━━━━━━\u001b[0m \u001b[32m11.7/11.7 MB\u001b[0m \u001b[31m78.5 MB/s\u001b[0m eta \u001b[36m0:00:00\u001b[0m\n",
            "\u001b[?25h  Installing build dependencies ... \u001b[?25l\u001b[?25hdone\n",
            "  Getting requirements to build wheel ... \u001b[?25l\u001b[?25hdone\n",
            "  Preparing metadata (pyproject.toml) ... \u001b[?25l\u001b[?25hdone\n",
            "Requirement already satisfied: statsmodels>=0.14.0 in /usr/local/lib/python3.11/dist-packages (from scikit-bio) (0.14.5)\n",
            "Requirement already satisfied: patsy>=0.5.0 in /usr/local/lib/python3.11/dist-packages (from scikit-bio) (1.0.1)\n",
            "Collecting array-api-compat>=1.3 (from scikit-bio)\n",
            "  Downloading array_api_compat-1.12.0-py3-none-any.whl.metadata (2.5 kB)\n",
            "Requirement already satisfied: click in /usr/local/lib/python3.11/dist-packages (from biom-format>=2.1.16->scikit-bio) (8.2.1)\n",
            "Requirement already satisfied: python-dateutil>=2.8.2 in /usr/local/lib/python3.11/dist-packages (from pandas>=1.5.0->scikit-bio) (2.9.0.post0)\n",
            "Requirement already satisfied: pytz>=2020.1 in /usr/local/lib/python3.11/dist-packages (from pandas>=1.5.0->scikit-bio) (2025.2)\n",
            "Requirement already satisfied: tzdata>=2022.7 in /usr/local/lib/python3.11/dist-packages (from pandas>=1.5.0->scikit-bio) (2025.2)\n",
            "Requirement already satisfied: charset-normalizer<4,>=2 in /usr/local/lib/python3.11/dist-packages (from requests>=2.20.0->scikit-bio) (3.4.2)\n",
            "Requirement already satisfied: idna<4,>=2.5 in /usr/local/lib/python3.11/dist-packages (from requests>=2.20.0->scikit-bio) (3.10)\n",
            "Requirement already satisfied: urllib3<3,>=1.21.1 in /usr/local/lib/python3.11/dist-packages (from requests>=2.20.0->scikit-bio) (2.5.0)\n",
            "Requirement already satisfied: certifi>=2017.4.17 in /usr/local/lib/python3.11/dist-packages (from requests>=2.20.0->scikit-bio) (2025.7.14)\n",
            "Requirement already satisfied: packaging>=21.3 in /usr/local/lib/python3.11/dist-packages (from statsmodels>=0.14.0->scikit-bio) (25.0)\n",
            "Requirement already satisfied: six>=1.5 in /usr/local/lib/python3.11/dist-packages (from python-dateutil>=2.8.2->pandas>=1.5.0->scikit-bio) (1.17.0)\n",
            "Downloading scikit_bio-0.7.0-cp311-cp311-manylinux_2_17_x86_64.manylinux2014_x86_64.whl (9.8 MB)\n",
            "\u001b[2K   \u001b[90m━━━━━━━━━━━━━━━━━━━━━━━━━━━━━━━━━━━━━━━━\u001b[0m \u001b[32m9.8/9.8 MB\u001b[0m \u001b[31m34.1 MB/s\u001b[0m eta \u001b[36m0:00:00\u001b[0m\n",
            "\u001b[?25hDownloading array_api_compat-1.12.0-py3-none-any.whl (58 kB)\n",
            "\u001b[2K   \u001b[90m━━━━━━━━━━━━━━━━━━━━━━━━━━━━━━━━━━━━━━━━\u001b[0m \u001b[32m58.2/58.2 kB\u001b[0m \u001b[31m1.1 MB/s\u001b[0m eta \u001b[36m0:00:00\u001b[0m\n",
            "\u001b[?25hBuilding wheels for collected packages: biom-format\n",
            "  Building wheel for biom-format (pyproject.toml) ... \u001b[?25l\u001b[?25hdone\n",
            "  Created wheel for biom-format: filename=biom_format-2.1.16-cp311-cp311-linux_x86_64.whl size=12176857 sha256=598217caeab619a82bbbc4c3717e73d68a5812506f0a124ecbd7e418d3578aa5\n",
            "  Stored in directory: /root/.cache/pip/wheels/a5/6b/58/a879e8fbae2479a3d1a68719f3a062fe62701d6494f1b74f5e\n",
            "Successfully built biom-format\n",
            "Installing collected packages: array-api-compat, biom-format, scikit-bio\n",
            "Successfully installed array-api-compat-1.12.0 biom-format-2.1.16 scikit-bio-0.7.0\n",
            "\n",
            "The version of scikit-bio installed:\n",
            "0.7.0\n"
          ]
        }
      ],
      "source": [
        "# Let's try to install the package scikit-bio.  This package is not installed by default in the\n",
        "# python environment, so we will need to install it.  We can use the pip command to install the\n",
        "# package.  The command is \"pip install\" followed by the name of the package.  The exclamation\n",
        "# point is used to indicate that the command is a shell command.\n",
        "# https://scikit.bio\n",
        "\n",
        "!pip install scikit-bio\n",
        "import skbio\n",
        "print('')\n",
        "print('The version of scikit-bio installed:')\n",
        "print(skbio.__version__)\n",
        "\n",
        "# Note that this could take several minutes.  We are not going to use the package in this notebook,\n",
        "# so you can skip this cell if it takes too long. To interrupt the installation, you can click on the\n",
        "# stop button in the toolbar above."
      ]
    },
    {
      "cell_type": "markdown",
      "metadata": {
        "id": "PafXp9PlKfXO"
      },
      "source": [
        "### **1.D) os - \"operating system\"**\n",
        "\n",
        "```os```  is the main package that lets you navigate and change directories for various purposes, similar to how you move around in a command prompt or terminal. ```os``` also performs miscellaneous operating system functions such as changing directories or checking process ids.\n",
        "\n",
        "https://docs.python.org/3/library/os.html\n",
        "\n",
        "\n",
        "Another popular file path manager is ```pathlib```.\n",
        "\n",
        "https://docs.python.org/3/library/pathlib.html"
      ]
    },
    {
      "cell_type": "code",
      "execution_count": 17,
      "metadata": {
        "colab": {
          "base_uri": "https://localhost:8080/"
        },
        "id": "QdBoojYxKQCp",
        "outputId": "63fbdadd-b1ad-458e-d6f3-5637e9d063d7",
        "tags": []
      },
      "outputs": [
        {
          "output_type": "stream",
          "name": "stdout",
          "text": [
            "/content/2025-CBP-SummerSchool\n"
          ]
        }
      ],
      "source": [
        "# Let's use the os module to print the current working directory\n",
        "import os\n",
        "print(os.getcwd())  #what is our current working directory (cwd)?"
      ]
    },
    {
      "cell_type": "markdown",
      "metadata": {
        "id": "cTqlun-uliFG"
      },
      "source": [
        "Once again, for us to import ```os```, the ```os``` module must exist in our system path so Python can \"see\" it.\n",
        "\n"
      ]
    },
    {
      "cell_type": "code",
      "execution_count": 18,
      "metadata": {
        "colab": {
          "base_uri": "https://localhost:8080/"
        },
        "id": "7iP1fyEAlsay",
        "outputId": "b1240193-954c-4c4c-c9c1-d197e104f6a7",
        "tags": []
      },
      "outputs": [
        {
          "output_type": "stream",
          "name": "stdout",
          "text": [
            "We are using the following file as the package os:\n",
            "/usr/lib/python3.11/os.py\n",
            "\n",
            "Here is our current sys.path:\n",
            "['/content', '/env/python', '/usr/lib/python311.zip', '/usr/lib/python3.11', '/usr/lib/python3.11/lib-dynload', '', '/usr/local/lib/python3.11/dist-packages', '/usr/lib/python3/dist-packages', '/usr/local/lib/python3.11/dist-packages/IPython/extensions', '/root/.ipython', '/content/2025-CBP-SummerSchool/BIOM480A5', '/content/2025-CBP-SummerSchool/BIOM480A5', '/content/2025-CBP-SummerSchool/BIOM480A5', '/content/2025-CBP-SummerSchool/BIOM480A5']\n"
          ]
        }
      ],
      "source": [
        "print('We are using the following file as the package os:')\n",
        "print(os.__file__) # Print the actual file that we imported the os packages from\n",
        "print('')\n",
        "print('Here is our current sys.path:')\n",
        "print(sys.path)\n",
        "# Note how this file we just imported from is inside our path!"
      ]
    },
    {
      "cell_type": "markdown",
      "metadata": {
        "id": "QzFN4feXPadg"
      },
      "source": [
        "Let's take a look at our current directory and its files using the ```os``` module:"
      ]
    },
    {
      "cell_type": "code",
      "execution_count": null,
      "metadata": {
        "id": "3-f8NhJbLH1e",
        "tags": []
      },
      "outputs": [],
      "source": [
        "#list all files in a directory, '.' denotes our current working directory\n",
        "os.listdir('.')"
      ]
    },
    {
      "cell_type": "markdown",
      "metadata": {
        "id": "H_s-6Nz_XrhJ"
      },
      "source": [
        "```os``` uses Unix-like paths:\n",
        "\n",
        "``` .``` a single period denotes my current working directory\n",
        "\n",
        "``` ..``` a single period denotes one parent folder above my current working directory\n",
        "\n",
        "``` ~``` a tilde represents the current users home directory"
      ]
    },
    {
      "cell_type": "code",
      "execution_count": null,
      "metadata": {
        "id": "za-SJ9P6YbxV",
        "tags": []
      },
      "outputs": [],
      "source": [
        "print('Files and folders in my current directory')\n",
        "print(os.listdir('.'))\n",
        "print('')\n",
        "print('Files and folders one directory above my current directory')\n",
        "print(os.listdir('..'))"
      ]
    },
    {
      "cell_type": "code",
      "execution_count": null,
      "metadata": {
        "id": "QBcoaAM2Yw6N",
        "tags": []
      },
      "outputs": [],
      "source": [
        "# Use os to show the current user's home directory\n",
        "print(os.path.expanduser('~'))"
      ]
    },
    {
      "cell_type": "markdown",
      "metadata": {
        "id": "YNjh9k03Padq"
      },
      "source": [
        "### **Quiz to practice importing packages**"
      ]
    },
    {
      "cell_type": "code",
      "execution_count": null,
      "metadata": {
        "id": "_rIFhVfPPadq"
      },
      "outputs": [],
      "source": [
        "# Set path and load quiz functions.\n",
        "sys.path.append(os.path.abspath('../BIOM480A5'))\n",
        "from BIOM480A5_Quizzes import multiple_choice_quiz"
      ]
    },
    {
      "cell_type": "code",
      "execution_count": null,
      "metadata": {
        "id": "3ddD7wpHPad3"
      },
      "outputs": [],
      "source": [
        "multiple_choice_quiz('importing_and_using_modules')"
      ]
    },
    {
      "cell_type": "markdown",
      "metadata": {
        "id": "odnclI5nPad3"
      },
      "source": [
        "Now might also be a good time to practice your **command line functions** using the following quiz."
      ]
    },
    {
      "cell_type": "code",
      "execution_count": null,
      "metadata": {
        "id": "euunG9APPad4"
      },
      "outputs": [],
      "source": [
        "# refresh import of BIOM480A5_Quizzes to get the updated version\n",
        "importlib.reload(BIOM480A5_Quizzes)\n",
        "from BIOM480A5_Quizzes import multiple_choice_quiz\n",
        "multiple_choice_quiz('command_line_tools')"
      ]
    },
    {
      "cell_type": "markdown",
      "metadata": {
        "id": "XntLwYNAGan2"
      },
      "source": [
        "## **2) Reading and Writing files**\n",
        "\n",
        "Opening a file is done with \"open\" and opens a buffer to a particular file on your hard drive. It's best practice to use ``` with open() as object:``` so the buffer closes on its own after the execution of code within the ``` with ``` is over. Typically you may see people use ```f``` to denote their file buffer object.\n",
        "\n",
        " ```python\n",
        "with open('example.txt', 'r') as f:\n",
        "    print(f.readlines)\n",
        "    \n",
        " ```\n",
        "\n",
        " ```open``` takes an additional flag to denote whether you are reading, ```'r'```, writing, ```'w'```, or appending ```'a'``` a file.\n",
        "\n",
        "Additonally, if you are not reading a text file, you may have to read / write a file in binary mode, ```'b'```, by appending b to your flag (```'wb'``` would mean write in binary mode)."
      ]
    },
    {
      "cell_type": "code",
      "execution_count": null,
      "metadata": {
        "id": "KKXaUdW_Gkbd",
        "tags": []
      },
      "outputs": [],
      "source": [
        "text_lines = [\"hi i'm some lines to write to a file \\n\", \"1kjjkl\\n\",\"2\\n\",\"3\\n\"]\n",
        "# \\n is a newline character, i.e., pressing enter\n",
        "\n",
        "# im writing a regular text file, 'w'\n",
        "with open('test.txt','w') as f:\n",
        "  f.writelines(text_lines)\n",
        "\n",
        "# im opening a file to read it, 'r'\n",
        "with open('test.txt','r') as f:\n",
        "  read_in_lines = f.readlines()\n",
        "\n",
        "read_in_lines"
      ]
    },
    {
      "cell_type": "markdown",
      "metadata": {
        "id": "ANovnKhdPwnA"
      },
      "source": [
        "Try opening the file we just made.  In VS Code, you can see this file on the right, just under the folder icon!\n",
        "\n",
        "We can also write in binary mode and see what that looks like:"
      ]
    },
    {
      "cell_type": "code",
      "execution_count": null,
      "metadata": {
        "id": "PI5MVzT4Hq6E",
        "tags": []
      },
      "outputs": [],
      "source": [
        "# import the numpy package\n",
        "import numpy as np\n",
        "\n",
        "# lets write some arbitrary array to a file as a binary file\n",
        "print('writing array to bin file:')\n",
        "array = np.array([5,1,4,2,3,6])\n",
        "print(array)\n",
        "\n",
        "# open a file called 'test.bin' in write binary mode\n",
        "with open('test.bin','wb') as f:\n",
        "  for i in array:\n",
        "    f.write(i)\n",
        "\n",
        "# lets use the kernel to print out what is stored in the binary file\n",
        "print('')\n",
        "print('here is what was stored in file:')\n",
        "!hexdump -C test.bin\n",
        "print('')\n",
        "\n",
        "# lets read that back into python\n",
        "with open('test.bin','rb') as f:\n",
        "  bitarray = []\n",
        "  byte = f.read(1)\n",
        "  bitarray.append(byte)\n",
        "  while byte != b\"\":\n",
        "    byte = f.read(1)\n",
        "    bitarray.append(byte)\n",
        "\n",
        "# now let's convert back from a byte array to a usable numpy array\n",
        "print('')\n",
        "read_array = []\n",
        "for i in range(int(len(bitarray)/8) ):\n",
        "  read_array.append(b''.join(bitarray[i*8:8 + i*8]))\n",
        "read_array = [int.from_bytes(x,byteorder='little') for x in read_array]\n",
        "\n",
        "print('array after read back in:')\n",
        "print(read_array)"
      ]
    },
    {
      "cell_type": "markdown",
      "metadata": {
        "id": "gGUrc4qghP3E"
      },
      "source": [
        "We will see more about numpy later, but for now you can also save a numpy array to its own file format using ```np.save(file, array)```"
      ]
    },
    {
      "cell_type": "code",
      "execution_count": null,
      "metadata": {
        "id": "LUrrhOXShNuw",
        "tags": []
      },
      "outputs": [],
      "source": [
        "np.save('test.npy', array)\n",
        "# print out this new file\n",
        "!head test.npy"
      ]
    },
    {
      "cell_type": "markdown",
      "metadata": {
        "id": "7gv18EPvPad6"
      },
      "source": [
        "### **Quiz to practice File Operations**"
      ]
    },
    {
      "cell_type": "code",
      "execution_count": null,
      "metadata": {
        "id": "OKURY8kCPad7"
      },
      "outputs": [],
      "source": [
        "multiple_choice_quiz('file_operations')"
      ]
    },
    {
      "cell_type": "markdown",
      "metadata": {
        "id": "K84SSQMcGj22"
      },
      "source": [
        "## **3) Pandas file management**\n",
        "\n",
        "```pandas``` is a library that extends NumPy by adding row and column headers. The primary data format it uses is called a \"DataFrame.\" Pandas will read a plethora of file formats into the dataframe format for easy object oriented manipulation within python. When you are done with the manipulation, you can write the file back out or return the underlying NumPy array. We wont go into great detail with ```pandas``` in this course, however it is a very powerful tool for manipulating data just as ```numpy``` is for numerical analyses.\n",
        "\n",
        "https://pandas.pydata.org/docs/getting_started/index.html#getting-started\n"
      ]
    },
    {
      "cell_type": "markdown",
      "metadata": {
        "id": "jzphOCQVM3AT"
      },
      "source": [
        "### **3.A) Opening a file with Pandas**\n",
        "\n",
        "Let's open some example data into Jupyter."
      ]
    },
    {
      "cell_type": "code",
      "execution_count": null,
      "metadata": {
        "id": "ilUoElr2Lk8K",
        "tags": []
      },
      "outputs": [],
      "source": [
        "import pandas as pd\n",
        "\n",
        "#Let's read some pre-generated data that was included for you in the CourseMaterials repository.\n",
        "housing_dataframe = pd.read_csv('./Module1-PreliminaryPython/sampleData/california_housing_test.csv')"
      ]
    },
    {
      "cell_type": "code",
      "execution_count": null,
      "metadata": {
        "id": "jq-G_oXf5EgI",
        "tags": []
      },
      "outputs": [],
      "source": [
        "# If we just execute the variable housing_dataframe, we will see the first and last few rows of the dataframe.\n",
        "housing_dataframe"
      ]
    },
    {
      "cell_type": "markdown",
      "metadata": {
        "id": "S1yKWhMaM-Y7"
      },
      "source": [
        "Getting columns and Logicals\n",
        "\n",
        "The (dis)advantage of pandas is that the slicing that you would do with numpy can be done with strings instead of indexes.\n",
        "\n",
        "Pros:\n",
        "\n",
        "* Comprehension\n",
        "\n",
        "It's clear which column you are using at a time since you can use text label headers.\n",
        "\n",
        "Cons:\n",
        "* Readability\n",
        "\n",
        "When stringing together long logicals slicing dataframes, the readability can quickly become incomprehensible.\n"
      ]
    },
    {
      "cell_type": "code",
      "execution_count": null,
      "metadata": {
        "id": "tyYS_GY95_z7",
        "tags": []
      },
      "outputs": [],
      "source": [
        "# lets get only the housing data from those with an household age of > 50\n",
        "housing_dataframe[housing_dataframe['housing_median_age'  ] > 50]\n",
        "# This shows the first and last few rows of the dataframe that meet the condition. Note that the\n",
        "# age of the house is greater than 50 for all of the rows that are displayed.  Also note that the\n",
        "# index of the rows is not continuous.  This is because the rows that do not meet the condition are\n",
        "# not displayed."
      ]
    },
    {
      "cell_type": "code",
      "execution_count": null,
      "metadata": {
        "id": "9zKWs4pFLyZ1",
        "tags": []
      },
      "outputs": [],
      "source": [
        "# Suppose that we only want to look at a singel column, such as the housing median age\n",
        "all_median_ages = housing_dataframe['housing_median_age']\n",
        "all_median_ages"
      ]
    },
    {
      "cell_type": "code",
      "execution_count": null,
      "metadata": {
        "id": "UGoC7oTsPaeA"
      },
      "outputs": [],
      "source": [
        "# Or if we only want to look at the rows that have a housing median age greater than 25\n",
        "ages_above_25 = housing_dataframe[housing_dataframe['housing_median_age'] > 25]\n",
        "ages_above_25\n",
        "\n",
        "print(f'the length of the original dataframe is {len(housing_dataframe)}')\n",
        "print(f'the length of the dataframe with ages above 25 is {len(ages_above_25)}')"
      ]
    },
    {
      "cell_type": "code",
      "execution_count": null,
      "metadata": {
        "id": "l-S55RtEL3x9",
        "tags": []
      },
      "outputs": [],
      "source": [
        "# Lets plot some of that data with a module called matplotlib. We will learn more about this module\n",
        "# later in the course.  Here we are just using it to plot a histogram of the housing median age.\n",
        "\n",
        "# First, we need to import the module, and here we are using the alias \"plt\" for the function \"pyplot\"\n",
        "# from the module \"matplotlib\".\n",
        "import matplotlib.pyplot as plt\n",
        "\n",
        "#pull the values out of the pandas array (stored as a numpy array)\n",
        "housing_data_array = housing_dataframe['housing_median_age'].values\n",
        "\n",
        "# Now to make the histogram and add labels.\n",
        "plt.hist(housing_data_array,50,density=True)\n",
        "plt.xlabel('age')\n",
        "plt.ylabel('probability')"
      ]
    },
    {
      "cell_type": "code",
      "execution_count": null,
      "metadata": {
        "id": "B6-AtNs1PaeA"
      },
      "outputs": [],
      "source": [
        "# What are the atributes of the a pandas dataframe?\n",
        "# There are a lot!  We can see them by using the dir command.\n",
        "print('The attributes of the pandas dataframe are:')\n",
        "print(dir(housing_dataframe))"
      ]
    },
    {
      "cell_type": "code",
      "execution_count": null,
      "metadata": {
        "id": "BnPxVXm1PaeA"
      },
      "outputs": [],
      "source": [
        "# Let's just look at the functions we can use on the dataframe.\n",
        "print('')\n",
        "print('The callable functions of the pandas dataframe are:')\n",
        "print([x for x in dir(housing_dataframe) if '__' not in x and x[0] != '_' and callable(getattr(housing_dataframe, x))])\n",
        "# What was that list comprehension doing?  It was looking at all of the attributes of the dataframe\n",
        "# and only selecting the ones that are callable (i.e., functions) and that do not start with an\n",
        "# underscore.  The ones that start with an underscore are private functions that are not meant to be\n",
        "# used by the user."
      ]
    },
    {
      "cell_type": "markdown",
      "metadata": {
        "id": "8rvGU7XjOKlE"
      },
      "source": [
        "Here are a few common Pandas functions and what they do.\n",
        "| Attribute    | Description |\n",
        "| ----------- | ------------ |\n",
        "| .values()|  get a numpy array of all values within the dataframe    |  \n",
        "| .head()|  print out the top 5 rows    |  \n",
        "| .tail()|  print out the bottom 5 rows    |  \n",
        "| .iloc()|  lets you use indexes like the dataframe is numpy    |  \n",
        "| .columns()|  return out all the headers of the columns in the dataframe |  "
      ]
    },
    {
      "cell_type": "code",
      "execution_count": null,
      "metadata": {
        "id": "5ZFozGpmOrAp",
        "tags": []
      },
      "outputs": [],
      "source": [
        "# Try out some of these on the dataframe\n",
        "housing_dataframe.columns"
      ]
    },
    {
      "cell_type": "code",
      "execution_count": null,
      "metadata": {
        "id": "_zFw6kn0PaeB"
      },
      "outputs": [],
      "source": [
        "# if you want to know what another function does, you can use the help function\n",
        "help(housing_dataframe.aggregate)"
      ]
    },
    {
      "cell_type": "markdown",
      "metadata": {
        "id": "IpMOTILBMzU7"
      },
      "source": [
        "### **3.B) Writing a csv file with Pandas**\n",
        "\n",
        "Lets write some simple CSVs using pandas. Pandas accepts multiple formats as long as indexes are provided."
      ]
    },
    {
      "cell_type": "code",
      "execution_count": null,
      "metadata": {
        "id": "C6WqFeNUMm0I",
        "tags": []
      },
      "outputs": [],
      "source": [
        "# The easiest way to write a new dataframe is to generate a dictionary of your data\n",
        "# data keyed by its column header\n",
        "new_dataframe_dict = {'column 1': [1,2,3,4],\n",
        "                      'column 2': ['1','2','3','4'],\n",
        "                      'last col': ['a','b','c','d']}\n",
        "\n",
        "# optional row labels, we have 4 entries for each column, so we need 4 labels\n",
        "row_labels = ['row 1', 'row 2', 'row 3', 'row 4']\n",
        "\n",
        "# Generate our new pandas dataframe\n",
        "new_df = pd.DataFrame(new_dataframe_dict, index=row_labels)\n",
        "print('in memory:')\n",
        "print(new_df.head())\n",
        "\n",
        "# We can write this data frame to a .csv for easy of access in multiple softwares\n",
        "print('')\n",
        "new_df.to_csv('test_csv.csv',  index_label='blank')\n",
        "print('on disk:')\n",
        "!head test_csv.csv"
      ]
    },
    {
      "cell_type": "markdown",
      "metadata": {
        "id": "o2gOEScwRMdi"
      },
      "source": [
        "### **3.C) Creating a dataframe from a numpy array**\n",
        "\n",
        "This is as simple as passing the array and the correct number of column headers into DataFrame"
      ]
    },
    {
      "cell_type": "code",
      "execution_count": null,
      "metadata": {
        "id": "isUXp7hjPm-L",
        "tags": []
      },
      "outputs": [],
      "source": [
        "import numpy as np\n",
        "random_array = np.random.randint(0,1000,size=(5,100)).T\n",
        "headers = ['col'+str(x) for x in range(0,5)]\n",
        "\n",
        "new_df = pd.DataFrame(random_array,columns=headers)"
      ]
    },
    {
      "cell_type": "code",
      "execution_count": null,
      "metadata": {
        "id": "Tvdr21iVQ1bw",
        "tags": []
      },
      "outputs": [],
      "source": [
        "# Let's use the head function to see the first few rows of the dataframe\n",
        "new_df.head()"
      ]
    },
    {
      "cell_type": "markdown",
      "metadata": {
        "id": "7CNpSteaPaeC"
      },
      "source": [
        "### **Quiz to practice commands for dataframes**"
      ]
    },
    {
      "cell_type": "code",
      "execution_count": null,
      "metadata": {
        "id": "fz4RhLT5PaeD"
      },
      "outputs": [],
      "source": [
        "multiple_choice_quiz('pandas_operations')"
      ]
    },
    {
      "cell_type": "markdown",
      "metadata": {
        "id": "zUi7SNbCiKNI"
      },
      "source": [
        "## **4) Saving numpy arrays with npy files**\n",
        "\n",
        " ```numpy``` aslo has a built in file format for you to save n-dimensional arrays and read them back in as needed."
      ]
    },
    {
      "cell_type": "code",
      "execution_count": null,
      "metadata": {
        "id": "n8gptMhNiZ8h",
        "tags": []
      },
      "outputs": [],
      "source": [
        "# Here is an exaple for creating npy files\n",
        "import numpy as np\n",
        "\n",
        "my_array = np.ones((3,100,100))\n",
        "for i in range(3):\n",
        "  my_array[i] = my_array[i]*i\n",
        "\n",
        "print(my_array)\n",
        "\n",
        "print('')\n",
        "print('file on the disk:')\n",
        "np.save('test_save',my_array, )\n",
        "\n",
        "!head test_save.npy\n",
        "\n",
        "loaded_array = np.load('test_save.npy')\n",
        "\n",
        "print('')\n",
        "print('')\n",
        "print('loaded array:')\n",
        "print(loaded_array)"
      ]
    },
    {
      "cell_type": "markdown",
      "metadata": {
        "id": "AYysquQfRWTP"
      },
      "source": [
        "A note about memory sizes and datatypes:\n",
        "\n",
        "Numpy arrays can get large fast when you are working in multiple dimensions. When saving you can save disk space by making sure you are saving in the smallest datatype you can, keep in mind the maximum possible integers for different data types!\n",
        "\n",
        "| dtype | min | max | hex |\n",
        "| --- | --- | --- | --- |\n",
        "| int8 | -128 |127|  (-0x80, 0x7F)|\n",
        "| uint8 | 0 |255|  (0x00, 0xFF)|\n",
        "| int16 | -32768 |32767|  (-0x8000, 0x7FFF)|\n",
        "| uint16 | 0 |65535|  (0x0, 0xFFFF)|\n",
        "| int32 | -2147483648 | 2147483647 | (-0x80000000, 0x7FFFFFFF)\n",
        "| uint32 | 0 |4294967295|  (0x0, 0xFFFFFFFF)|\n",
        "| int64| -9223372036854775808 | 9223372036854775807 | (-0x8000000000000000, 0x7FFFFFFFFFFFFFFF)\n",
        "| uint64 | 0 |18446744073709551615|  (0x0, 0xFFFFFFFFFFFFFFFF)|\n",
        "\n",
        "----\n",
        "\n",
        "Note that these are maximums for **integer** values, representing floating point values is complicated and beyond the scope of this course, but 99% of the time they will use 32 or 64 bits of memory just like the larger integer data types. If you are interested check out the Wikipedia page on double precision floating points:\n",
        "https://en.wikipedia.org/wiki/Double-precision_floating-point_format\n",
        "\n",
        "\n",
        "\n"
      ]
    },
    {
      "cell_type": "code",
      "execution_count": null,
      "metadata": {
        "id": "XxDExd8lR0a8",
        "tags": []
      },
      "outputs": [],
      "source": [
        "# here are the dtypes that numpy can handle.\n",
        "dtypes = {'int16': np.int16,\n",
        "          'int32': np.int32,\n",
        "          'float32':np.float32,\n",
        "          'float64':np.float64,\n",
        "          'bool':bool}\n",
        "\n",
        "# Let's see how much memory a 300x300x300 array would take up in different data types\n",
        "data_type = 'int16' # try with  [\"int16\",\"int32\",\"float32\", 'float64','bool']\n",
        "data_length = (100,100,200)\n",
        "dtype = dtypes[data_type]\n",
        "array = np.ones(data_length).astype(dtype)\n",
        "totalbytes = array.itemsize*array.size\n",
        "\n",
        "print(f'total mb of a {data_length} array in {data_type} is {totalbytes/1e6} MB')"
      ]
    },
    {
      "cell_type": "markdown",
      "metadata": {
        "id": "lRq21AN7lNjx"
      },
      "source": [
        "## **Questions**"
      ]
    },
    {
      "cell_type": "code",
      "execution_count": null,
      "metadata": {
        "id": "PlZcd6_YlNOx"
      },
      "outputs": [],
      "source": [
        "## Print the current working directory using the module os"
      ]
    },
    {
      "cell_type": "code",
      "execution_count": null,
      "metadata": {
        "id": "0BYik57jwckx"
      },
      "outputs": [],
      "source": [
        "## Open a file and write a short message in text, save the file as 'example_file.txt'"
      ]
    },
    {
      "cell_type": "code",
      "execution_count": null,
      "metadata": {
        "id": "c2BM84Tpwxif"
      },
      "outputs": [],
      "source": [
        "## List out the default packages installed in your current python environment,\n",
        "## pick one, and view its docstring / documentation"
      ]
    }
  ],
  "metadata": {
    "colab": {
      "provenance": [],
      "toc_visible": true
    },
    "kernelspec": {
      "display_name": "Python 3",
      "language": "python",
      "name": "python3"
    },
    "language_info": {
      "codemirror_mode": {
        "name": "ipython",
        "version": 3
      },
      "file_extension": ".py",
      "mimetype": "text/x-python",
      "name": "python",
      "nbconvert_exporter": "python",
      "pygments_lexer": "ipython3",
      "version": "3.10.16"
    }
  },
  "nbformat": 4,
  "nbformat_minor": 0
}